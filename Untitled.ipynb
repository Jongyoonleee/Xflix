{
 "cells": [
  {
   "cell_type": "code",
   "execution_count": null,
   "id": "dfa1b9e6-94cf-4630-a5a2-b356f0fcd0f9",
   "metadata": {},
   "outputs": [],
   "source": []
  }
 ],
 "metadata": {
  "kernelspec": {
   "display_name": "",
   "name": ""
  },
  "language_info": {
   "name": ""
  }
 },
 "nbformat": 4,
 "nbformat_minor": 5
}
